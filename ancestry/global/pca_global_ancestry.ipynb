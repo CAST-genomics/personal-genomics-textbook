{
 "cells": [
  {
   "cell_type": "code",
   "execution_count": 36,
   "id": "41e97244",
   "metadata": {},
   "outputs": [],
   "source": [
    "%%capture\n",
    "%pylab inline\n",
    "import numpy as np\n",
    "import pandas as pd"
   ]
  },
  {
   "cell_type": "markdown",
   "id": "5347b879",
   "metadata": {},
   "source": [
    "# 2.3 Global ancestry analysis with PCA\n",
    "\n",
    "A major reason many people participate in \"direct-to-consumer\" genetics is to learn about their ancestry. We will think about two different ways to describe someone's ancestry:\n",
    "\n",
    "* **Global ancestry**: provides a high-level description of someone's overall ancestry. For example, we might describe someone's ancestry as \"European\", or \"African\", or \"10% European and 90% East Asian\". Depending on our dataset and application, we may be able to be more precise. e.g. \"50% Chinese and 50% Japanese.\"\n",
    "\n",
    "* **Local ancestry**: describes the ancestral origin of individual fragments of the genome. For example, we might say that the first half of one of your copies of chromosome 1 is of African origin. You can think of *global ancestry* as a genome-wide average of someone's *local ancestry*.\n",
    "\n",
    "In this session, we will focus on two methods for computing global ancestry: PCA (Notes 2.3) and ADMIXTURE (Notes 2.4). Next week we will discuss methods for analyzing local ancestry.\n",
    "\n",
    "# 2.3.1 Race, ethnicity, and genetic ancestry\n",
    "\n",
    "Borrell, et al 2021 [1] define:\n",
    "\n",
    "* **Race** and **ethnicity** are self-ascribed or socially ascribed (e.g. by police or medical staff) identities. \n",
    "* **Genetic ancestry** describes the genetic origin of one's population. (This often correlates with the geographic origin of someone's ancestors)\n",
    "\n",
    "We will focus on *genetic ancestry* here. We will use genetic information to quantitatively measure ancestry. The result will be a continuous definition of ancestry (rather than discrete labels such as \"White\" or \"Black\") that is inferred in an unbiasd way from the data.\n",
    "\n",
    "Importantly, while the terms \"race\", \"ethnicity\", and \"genetic ancestry\" have different meanings, they are often used somewhat interchangeably in genomics and medical literature. In some cases, this has been the cause of great harm especially to under-represented minorities, for example when \"race-specific\" reference values for certain medical tests are used. We will explore these issues more in coming lectures. \n",
    "\n",
    "# 2.3.2 Introduction to PCA\n",
    "\n",
    "Our goal will be to take a large matrix of genotypes (0s, 1s, and 2s for each person at each SNP), and use these to identify \"population structure\", i.e. different population groups and how they are related to each other. In our application, we'll have a set of samples with known labels (from the 1000 Genomes Project) and will use these to infer the ancestry of unlabeled samples (e.g. from 23andme).\n",
    "\n",
    "This is a high-dimensionality problem. We typically will have tens of thousands or more features (SNPs) for each sample. We will first use *principal components analysis* (PCA) to address this challenge. Intuitively, PCA will find linear combinations of features (these are the *principal components*, or PCs) which explain the most variation in our data. This will have the advantage of performing *feature reduction* (we can look at a small number of PCs rather than a huge number of SNPs). It will also allow us to identify *clusters* of samples based on visual inspection of the data in PC-space.\n",
    "\n",
    "Before performing PCA on genetic data, we will first go through a toy example to more easily illustrate what PCA is doing. Consider that you have collected a dataset consisting of the height and weight for a set of samples. The cell below generates this dummy set of data:"
   ]
  },
  {
   "cell_type": "code",
   "execution_count": 29,
   "id": "7ae1d20a",
   "metadata": {},
   "outputs": [
    {
     "data": {
      "text/html": [
       "<div>\n",
       "<style scoped>\n",
       "    .dataframe tbody tr th:only-of-type {\n",
       "        vertical-align: middle;\n",
       "    }\n",
       "\n",
       "    .dataframe tbody tr th {\n",
       "        vertical-align: top;\n",
       "    }\n",
       "\n",
       "    .dataframe thead th {\n",
       "        text-align: right;\n",
       "    }\n",
       "</style>\n",
       "<table border=\"1\" class=\"dataframe\">\n",
       "  <thead>\n",
       "    <tr style=\"text-align: right;\">\n",
       "      <th></th>\n",
       "      <th>height</th>\n",
       "      <th>weight</th>\n",
       "    </tr>\n",
       "  </thead>\n",
       "  <tbody>\n",
       "    <tr>\n",
       "      <th>0</th>\n",
       "      <td>64.374698</td>\n",
       "      <td>119.829936</td>\n",
       "    </tr>\n",
       "    <tr>\n",
       "      <th>1</th>\n",
       "      <td>65.960695</td>\n",
       "      <td>120.590901</td>\n",
       "    </tr>\n",
       "    <tr>\n",
       "      <th>2</th>\n",
       "      <td>64.401457</td>\n",
       "      <td>119.597407</td>\n",
       "    </tr>\n",
       "    <tr>\n",
       "      <th>3</th>\n",
       "      <td>62.771941</td>\n",
       "      <td>119.467423</td>\n",
       "    </tr>\n",
       "    <tr>\n",
       "      <th>4</th>\n",
       "      <td>64.538570</td>\n",
       "      <td>119.501133</td>\n",
       "    </tr>\n",
       "  </tbody>\n",
       "</table>\n",
       "</div>"
      ],
      "text/plain": [
       "      height      weight\n",
       "0  64.374698  119.829936\n",
       "1  65.960695  120.590901\n",
       "2  64.401457  119.597407\n",
       "3  62.771941  119.467423\n",
       "4  64.538570  119.501133"
      ]
     },
     "execution_count": 29,
     "metadata": {},
     "output_type": "execute_result"
    }
   ],
   "source": [
    "rng = np.random.RandomState(1)\n",
    "X = np.dot(rng.rand(2, 2), rng.randn(2, 200)).T\n",
    "height = X[:,0]+65\n",
    "weight = X[:,1]+120\n",
    "data = pd.DataFrame({\"height\": height, \"weight\": weight})\n",
    "data.head()"
   ]
  },
  {
   "cell_type": "markdown",
   "id": "e9dfcad6",
   "metadata": {},
   "source": [
    "We can make a scatter plot of these variables to see their relationship:"
   ]
  },
  {
   "cell_type": "code",
   "execution_count": 30,
   "id": "83e7603f",
   "metadata": {},
   "outputs": [
    {
     "data": {
      "image/png": "[encoded data removed]",
      "text/plain": [
       "<Figure size 432x288 with 1 Axes>"
      ]
     },
     "metadata": {
      "needs_background": "light"
     },
     "output_type": "display_data"
    }
   ],
   "source": [
    "fig = plt.figure()\n",
    "ax = fig.add_subplot(111)\n",
    "ax.scatter(data[\"height\"], data[\"weight\"]);\n",
    "ax.set_xlabel(\"Height\")\n",
    "ax.set_ylabel(\"Weight\");"
   ]
  },
  {
   "cell_type": "markdown",
   "id": "590defac",
   "metadata": {},
   "source": [
    "Intuitively, if we had do draw a line through these points that explained the largest about of variation in our data, we'd draw it along the x=y diagonal. After that, the rest of the variation in the data can be described as the distance of each point from that diagonal. Those two directions will be the two principal components (PCs). \n",
    "\n",
    "Generally, if we have $n$ samples and $p$ features, we will be able to find $min(n-1, m)$ PCs. In this example, we have $m=2$ features, and can fully explain the data with 2 PCs. (Often in our genetic data, we will have many more features than samples. In that case the number of PCs will be limited by the sample size). The PCs are ordered according to how much variation they explain (PC1 explains the most variation, PC2 explains the next most, etc.)."
   ]
  },
  {
   "cell_type": "markdown",
   "id": "ab8338ed",
   "metadata": {},
   "source": [
    "## 2.3.3 Review of basic descriptive statistics\n",
    "\n",
    "Let $X={x_{ij}}$ be our matrix of data. We have $m$ features ($i=1..m$) and $n$ samples ($j=1..n$). In the case of genetics data, $x_{ij}$ would give sample $j$'s genotype (0, 1, or 2) at SNP $i$. In our height and weight example, we have $m=2$ features (height and weight) and simulated $n=200$ samples. Note below we will use $X_i = {x_{i1}, x_{i2}, ... x_{in}}$ to refer to the vector of data across all samples for feature $i$. \n",
    "\n",
    "We will make use of the following statistics:\n",
    "\n",
    "* **Mean**: $\\overline{X_i} = \\frac{1}{n} \\sum_{j=1}^n x_{ij}$\n",
    "\n",
    "* **Variance**: $\\sigma^2(X_i) = \\frac{1}{n-1} \\sum_{j=1}^n (x_{ij}-\\overline{X_i})^2$\n",
    "\n",
    "* **Covariance**: $cov(X_i, X_k) = \\frac{1}{n-1} \\sum_{j=1}^n (x_{ij}-\\overline{X_i})(x_{kj}-\\overline{X_k})$\n",
    "\n",
    "Note some special properties of the covariance:\n",
    "\n",
    "1. The covariance of a vector with itself is equal to the variance: $cov(X_i, X_i) = \\sigma^2(X_i)$\n",
    "2. Covariance ie symmatric: $cov(X_i, X_k) = cov(X_k, X_i)$.\n",
    "\n",
    "When performing PCA, we will be dealing primarily with the *covariance matrix*, often denoted as $cov(X)$ or $\\Sigma$. (Note, covariance matrices will come up again in our trait prediction module). The covariance matrix is simply a matrix of the covariances between all pairs of features. So:\n",
    "\n",
    "* $cov(X)$ has dimension $m \\times m$\n",
    "* Entry $i,k$ gives $cov(X_i, X_k)$\n",
    "* Diagonal elements of the covariance matrix give $\\sigma^2(X_1), \\sigma^2(X_2), ... \\sigma^2(X_m)$.\n",
    "* Off diagonal elements give the covariance of each pair of features (e.g. SNPs).\n",
    "\n",
    "Note, if the data is scaled such that the mean of each feature is 0, the covariance matrix can easily be computed as $cov(X)=XX^T/(n-1)$. We can also use the `np.cov` function to compute the covariance matrix. The cell below does this for our height and weight data."
   ]
  },
  {
   "cell_type": "code",
   "execution_count": 31,
   "id": "60ff79d4",
   "metadata": {},
   "outputs": [
    {
     "data": {
      "text/plain": [
       "array([[0.68217761, 0.23093475],\n",
       "       [0.23093475, 0.09883179]])"
      ]
     },
     "execution_count": 31,
     "metadata": {},
     "output_type": "execute_result"
    }
   ],
   "source": [
    "# diagonals give Var(height) and Var(weight)\n",
    "# Off-diagonals give Cov(height, weight)\n",
    "cov = np.cov(data.transpose())\n",
    "cov"
   ]
  },
  {
   "attachments": {},
   "cell_type": "markdown",
   "id": "3185ca4f",
   "metadata": {},
   "source": [
    "## 2.3.4 Review of eigenvalues and eigenvectors\n",
    "\n",
    "The key idea of PCA is going to be looking for structure in the covariance matrix. For this, we will use the concept of eigenvalues and eigenvectors from linear algebra. Note, there are full courses on linear algebra that will cover these concepts in detail. Here, we just attempt to understand these at a high level to give us intuition into what PCA is doing.\n",
    "\n",
    "Given a square matrix $C$ (such as our $m$ by $m$ covariance matrix), which represents some linear transformation:\n",
    "\n",
    "An **eigenvector** $\\vec{v}$ of a matrix $C$ is a non-zero vector that does not change direction when $C$ is applied to it:\n",
    "\n",
    "$$C\\vec{v} = \\lambda \\vec{v}$$\n",
    "\n",
    "where $\\lambda$ is a scalar value known as the **eigenvalue** associated with eigenvector $\\vec{v}$.\n",
    "\n",
    "If $C$ is an $m\\times m$ matrix, there are $m$ eigenvectors and corresponding eigenvalues:\n",
    "\n",
    "$$ \\vec{v_1}, \\vec{v_2}, ... \\vec{v_m}$$\n",
    "$$ \\lambda_1, \\lambda_2, ... \\lambda_m$$\n",
    "\n",
    "These are ordered by the absolute value of the eigenvalues. Intuitively:\n",
    "* The top eigenvectors are linear combinations of features that explain the most variation in our data.\n",
    "* The corresponding eigenvalues tell us about how much variation is explained\n",
    "\n",
    "Let's compute the eigenvalues and eigenvectors of our height and weight dataset:"
   ]
  },
  {
   "cell_type": "code",
   "execution_count": 32,
   "id": "52e00346",
   "metadata": {},
   "outputs": [
    {
     "name": "stdout",
     "output_type": "stream",
     "text": [
      "[0.7625315 0.0184779]\n",
      "[[ 0.94446029 -0.32862557]\n",
      " [ 0.32862557  0.94446029]]\n"
     ]
    }
   ],
   "source": [
    "eigvals, eigvecs = np.linalg.eig(cov)\n",
    "print(eigvals)\n",
    "print(eigvecs)"
   ]
  },
  {
   "cell_type": "markdown",
   "id": "bc71a6cf",
   "metadata": {},
   "source": [
    "Let's draw the direction of the eigenvectors on our height vs. weight plot. These should go in the directions we intuitively thought should correspond to the two PCs.\n",
    "\n",
    "See the cell below."
   ]
  },
  {
   "cell_type": "code",
   "execution_count": 33,
   "id": "c1343b1b",
   "metadata": {},
   "outputs": [
    {
     "data": {
      "image/png": "[encoded data removed]",
      "text/plain": [
       "<Figure size 432x288 with 1 Axes>"
      ]
     },
     "metadata": {
      "needs_background": "light"
     },
     "output_type": "display_data"
    }
   ],
   "source": [
    "def DrawArrow(point1, point2, ax=None):\n",
    "    \"\"\"\n",
    "    Draw a an arrow from point1 to point2.\n",
    "    Takes an input a matplotlib ax object so\n",
    "    you can add to an existing plot\n",
    "    \"\"\"\n",
    "    ax = ax or plt.gca()\n",
    "    arrowprops=dict(arrowstyle='->',\n",
    "                    linewidth=2,\n",
    "                    shrinkA=0, shrinkB=0)\n",
    "    ax.annotate('', point2, point1, arrowprops=arrowprops)\n",
    "    \n",
    "# Make arrows start at the mean of each dimension\n",
    "mean_vals = [np.mean(data[\"height\"]), np.mean(data[\"weight\"])]\n",
    "point1 = mean_vals\n",
    "\n",
    "pc1_point2 = mean_vals+eigvecs[:,0]*np.sqrt(eigvals[0])\n",
    "pc2_point2 = mean_vals+eigvecs[:,1]*np.sqrt(eigvals[1])\n",
    "fig = plt.figure()\n",
    "ax = fig.add_subplot(111)\n",
    "ax.scatter(data[\"height\"], data[\"weight\"], alpha=0.5);\n",
    "DrawArrow(point1, pc1_point2, ax=ax)\n",
    "DrawArrow(point1, pc2_point2, ax=ax)\n",
    "ax.set_xlabel(\"Height\")\n",
    "ax.set_ylabel(\"Weight\");"
   ]
  },
  {
   "cell_type": "markdown",
   "id": "fbc4a50e",
   "metadata": {},
   "source": [
    "We note an interesting property - that the covariance matrix $C$ can now be decomposed in terms of its eigenvectors and eigenvalues. Let:\n",
    "\n",
    "* $Q$ be an $m \\times m$ matrix with columns $\\vec{v_1}, \\vec{v_2}, ... \\vec{v_m}$\n",
    "* $\\Lambda$ be a diagonal $m \\times m$ matrix with diagonal values $\\lambda_1, \\lambda_2, ... \\lambda_m$ and off-diagonal values 0.\n",
    "\n",
    "Then we can write:\n",
    "\n",
    "$$ C = Q \\Lambda Q^T$$\n",
    "\n",
    "This is called the **eigendecomposition** of $C$. Let's just convince ourselves this is true on our height and weight data:"
   ]
  },
  {
   "cell_type": "code",
   "execution_count": 34,
   "id": "d9f1dccb",
   "metadata": {},
   "outputs": [
    {
     "name": "stdout",
     "output_type": "stream",
     "text": [
      "[[0.68217761 0.23093475]\n",
      " [0.23093475 0.09883179]]\n",
      "[[0.68217761 0.23093475]\n",
      " [0.23093475 0.09883179]]\n"
     ]
    }
   ],
   "source": [
    "print(eigvecs.dot(np.diag(eigvals)).dot(eigvecs.transpose())) # Q*L*Q^T\n",
    "print(cov) # cov"
   ]
  },
  {
   "cell_type": "markdown",
   "id": "fafe7841",
   "metadata": {},
   "source": [
    "Finally, we can project our original data onto the PCs:\n",
    "\n",
    "$$ X' = X^T Q$$\n",
    "\n",
    "here $X'$ is an $n \\times m$ matrix giving the projection of each sample along the $m$ PCs. Note e.g. the projection of sample 1 along PC 1 is the dot product of sample 1's data with eigenvector 1.\n",
    "\n",
    "We can compute the projection of our height and weight data along the first two PCs, and plot the results. Note, since we only have two features, the first two PCs explains all the variation in our data, and so there is no longer any structure in the data."
   ]
  },
  {
   "cell_type": "code",
   "execution_count": 35,
   "id": "c1ef5145",
   "metadata": {},
   "outputs": [
    {
     "data": {
      "image/png": "[encoded data removed]",
      "text/plain": [
       "<Figure size 432x288 with 1 Axes>"
      ]
     },
     "metadata": {
      "needs_background": "light"
     },
     "output_type": "display_data"
    }
   ],
   "source": [
    "proj = data.dot(eigvecs)\n",
    "fig = plt.figure()\n",
    "ax = fig.add_subplot(111)\n",
    "ax.scatter(proj[0], proj[1])\n",
    "ax.set_xlabel(\"PC1\")\n",
    "ax.set_ylabel(\"PC2\");"
   ]
  },
  {
   "cell_type": "markdown",
   "id": "8dc7109f",
   "metadata": {},
   "source": [
    "## 2.3.5 Performing PCA\n",
    "\n",
    "Below are general steps for performing PCA, but we will describe variables in terms of SNP data.\n",
    "\n",
    "* **Step 1**: Obtain a matrix of genotypes $D$, such that $D_{ij}$ gives the number of non-reference alleles for sample $j$ and SNP $i$. Our matrix will have dimensions $m \\times n$ and all of the entries will be 0s, 1s, or 2s. Note in practice this matrix will need to be cleaned to remove missing data, very rare or invariant SNPs, and pruned to remove highly correlated SNPs. More on that later.\n",
    "\n",
    "* **Step 2**: Center and scale each feature (SNP). Typically data for each SNP is scaled such that genotypes have mean 0 and variance 1. i.e. we take $\\frac{X_i - \\overline{X_i}}{\\sigma({X_i})}$.\n",
    "\n",
    "For a SNP with MAF $p_i$, this would come out to:\n",
    "\n",
    "$$X_{ij} \\in {\\frac{-2p_i}{\\sqrt{2p_i(1-p_i)}}, \\frac{1-2p_i}{\\sqrt{2p_i(1-p_i)}}, \\frac{2-2p_i}{\\sqrt{2p_i(1-p_i)}}}$$\n",
    "\n",
    "(whereas our original data consisted of 0s, 1s, and 2s.)\n",
    "\n",
    "* **Step 3**: Calculate a covariance matrix $Cov(X) = XX^T/n$. Note, since we scaled our data in step 2, all of the diagonal elements of this covariance matrix will be equal to 1.\n",
    "\n",
    "* **Step 4**: Compute the eigendecomposition of $Cov(X)$ to get its eigenvectors and eigenvalues\n",
    "\n",
    "* **Step 5**: Project the original data on the PCs: $X_{proj} = X^TQ$\n",
    "\n",
    "* **Step 6**: Plot PCs to visualize. i.e. plot column 1 vs. column 2 of $X_{proj}$ to visualize the project of samples along the first two PCs."
   ]
  },
  {
   "cell_type": "markdown",
   "id": "d3d88e8a",
   "metadata": {},
   "source": [
    "## 2.3.6 The transpose trick\n",
    "\n",
    "In our PCA description above, we took the covariance of $X$, which gave us an $m$ by $m$ matrix with the covariance between each pair of *SNPs*. In this case, we took the the eigenvectors $Q$ of $C=XX^T/n$, and $X^TQ$ gave us the projection of each sample along the PCs.\n",
    "\n",
    "An alternative way we could have done this is by taking the covariance matrix of $X^T$ ($C=X^TX/n$). In this case, entries of the covariance matrix give the pairwise covariance between *samples*. This can actually be faster to compute, and the matrix forms the **genetic relatedness matrix** (GRM) we will use later on in the course when we talk about linear mixed models. In this case, the eigenvectors $V$ of $C$ themselves give the projection of each sample along the PCs.\n",
    "\n",
    "Note these two methods:\n",
    "1. Using the covariance matrix of $X$, and projecting samples using $X^TQ$\n",
    "2. Using the covariance matrix of $X^T$, in which case the eigenvectors themselves already give the sample projections.\n",
    "\n",
    "end up giving equivalent results. This is because of the following property:\n",
    "\n",
    "If $v$ is an eigenvector of $XX^T$, then $X^Tv$ is an eigenvector of $X^TX$. This is known as the \"transpose trick\". See https://stats.stackexchange.com/questions/7111/how-to-perform-pca-for-data-of-very-high-dimensionality/7144#7144.\n"
   ]
  },
  {
   "attachments": {},
   "cell_type": "markdown",
   "id": "449b57b2",
   "metadata": {},
   "source": [
    "## 2.3.7 PCA on human data\n",
    "\n",
    "In class you will perform PCA on the 1000 Genomes Project samples and visualize the first several PCs of the data. You should find:\n",
    "\n",
    "* PC1 mostly separates African from non-African samples (AFR vs. others)\n",
    "* PC2 separates East Eurasian from West Eurasian samples (EAS vs. EUR)\n",
    "* Other groups will fall between the EUR, AFR, and EAS superpopulations. e.g. admixed African samples will fall bewteen African and European groups.\n",
    "\n",
    "Some important notes on PCA interpretation:\n",
    "\n",
    "* The SNPs themselves are largely similar across different populations. What differs is their frequencies.\n",
    "* PCA reflects present-day populations, but major world populations have varied dramatically over the course of human history.\n",
    "* While PCA on present day populations highlights “African”, “European” and “East Asian” these should not be interpreted as “pure” population groups. Nearly all present-day humans are in fact mixtures of previous major population groups. More on this in a couple weeks."
   ]
  },
  {
   "cell_type": "markdown",
   "id": "2666236b",
   "metadata": {},
   "source": [
    "## References\n",
    "[1] Race and Genetic Ancestry in Medicine — A Time for Reckoning with Racism. Borrell, et al. NEJM 2021."
   ]
  }
 ],
 "metadata": {
  "kernelspec": {
   "display_name": "Python 3 (ipykernel)",
   "language": "python",
   "name": "python3"
  },
  "language_info": {
   "codemirror_mode": {
    "name": "ipython",
    "version": 3
   },
   "file_extension": ".py",
   "mimetype": "text/x-python",
   "name": "python",
   "nbconvert_exporter": "python",
   "pygments_lexer": "ipython3",
   "version": "3.9.7"
  }
 },
 "nbformat": 4,
 "nbformat_minor": 5
}
